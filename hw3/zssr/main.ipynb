{
 "cells": [
  {
   "cell_type": "markdown",
   "metadata": {
    "id": "Gc2sDULlCqAr"
   },
   "source": [
    "# Zero Shot Super Resolution (ZSSR)\n",
    "In this notebook you will solve the challenge of single image super-resolution. In this challenge, given a low-resolution image you are required to predict a high-resolution version of it without any additional information. In order to solve this challenge, you will implement a simplified version of the method proposed by Shocher et al. in the paper [Zero-Shot Super Resolution using Deep Internal Learning](http://www.weizmann.ac.il/math/irani/sites/math.irani/files/uploads/zssr_cameraready.pdf) (abbrv. ZSSR). You are highly encouraged to read the paper to gain an in depth understanding of the homework's task. \n",
    "\n",
    "## Challenge Bonus\n",
    "The top 10% of students with best performance in this task will recieve a **10 points bonus** to this homework."
   ]
  },
  {
   "cell_type": "code",
   "execution_count": null,
   "metadata": {
    "cellView": "form",
    "id": "fKLa1_M-LITG"
   },
   "outputs": [
    {
     "name": "stdout",
     "output_type": "stream",
     "text": [
      "^C\n",
      "Traceback (most recent call last):\n",
      "  File \"/home/labs/antebilab/guyilan/miniconda3/bin/pip\", line 6, in <module>\n",
      "    from pip._internal.cli.main import main\n",
      "  File \"/home/labs/antebilab/guyilan/miniconda3/lib/python3.9/site-packages/pip/_internal/cli/main.py\", line 10, in <module>\n",
      "    from pip._internal.cli.autocompletion import autocomplete\n",
      "  File \"/home/labs/antebilab/guyilan/miniconda3/lib/python3.9/site-packages/pip/_internal/cli/autocompletion.py\", line 10, in <module>\n",
      "    from pip._internal.cli.main_parser import create_main_parser\n",
      "  File \"/home/labs/antebilab/guyilan/miniconda3/lib/python3.9/site-packages/pip/_internal/cli/main_parser.py\", line 9, in <module>\n",
      "    from pip._internal.build_env import get_runnable_pip\n",
      "  File \"/home/labs/antebilab/guyilan/miniconda3/lib/python3.9/site-packages/pip/_internal/build_env.py\", line 19, in <module>\n",
      "    from pip._internal.cli.spinners import open_spinner\n",
      "  File \"/home/labs/antebilab/guyilan/miniconda3/lib/python3.9/site-packages/pip/_internal/cli/spinners.py\", line 9, in <module>\n",
      "    from pip._internal.utils.logging import get_indentation\n",
      "  File \"/home/labs/antebilab/guyilan/miniconda3/lib/python3.9/site-packages/pip/_internal/utils/logging.py\", line 29, in <module>\n",
      "    from pip._internal.utils.misc import ensure_dir\n",
      "  File \"/home/labs/antebilab/guyilan/miniconda3/lib/python3.9/site-packages/pip/_internal/utils/misc.py\", line 43, in <module>\n",
      "    from pip._internal.exceptions import CommandError, ExternallyManagedEnvironment\n",
      "  File \"/home/labs/antebilab/guyilan/miniconda3/lib/python3.9/site-packages/pip/_internal/exceptions.py\", line 18, in <module>\n",
      "    from pip._vendor.requests.models import Request, Response\n",
      "  File \"/home/labs/antebilab/guyilan/miniconda3/lib/python3.9/site-packages/pip/_vendor/requests/__init__.py\", line 45, in <module>\n",
      "    from .exceptions import RequestsDependencyWarning\n",
      "  File \"/home/labs/antebilab/guyilan/miniconda3/lib/python3.9/site-packages/pip/_vendor/requests/exceptions.py\", line 9, in <module>\n",
      "    from .compat import JSONDecodeError as CompatJSONDecodeError\n",
      "  File \"/home/labs/antebilab/guyilan/miniconda3/lib/python3.9/site-packages/pip/_vendor/requests/compat.py\", line 10, in <module>\n",
      "    from pip._vendor import chardet\n",
      "  File \"/home/labs/antebilab/guyilan/miniconda3/lib/python3.9/site-packages/pip/_vendor/chardet/__init__.py\", line 24, in <module>\n",
      "    from .universaldetector import UniversalDetector\n",
      "  File \"/home/labs/antebilab/guyilan/miniconda3/lib/python3.9/site-packages/pip/_vendor/chardet/universaldetector.py\", line 52, in <module>\n",
      "    from .sbcsgroupprober import SBCSGroupProber\n",
      "  File \"/home/labs/antebilab/guyilan/miniconda3/lib/python3.9/site-packages/pip/_vendor/chardet/sbcsgroupprober.py\", line 32, in <module>\n"
     ]
    },
    {
     "ename": "ModuleNotFoundError",
     "evalue": "No module named 'google'",
     "output_type": "error",
     "traceback": [
      "\u001b[0;31m---------------------------------------------------------------------------\u001b[0m",
      "\u001b[0;31mModuleNotFoundError\u001b[0m                       Traceback (most recent call last)",
      "Cell \u001b[0;32mIn[34], line 6\u001b[0m\n\u001b[1;32m      3\u001b[0m get_ipython()\u001b[38;5;241m.\u001b[39msystem(\u001b[38;5;124m'\u001b[39m\u001b[38;5;124mpip install livelossplot --quiet\u001b[39m\u001b[38;5;124m'\u001b[39m)\n\u001b[1;32m      5\u001b[0m \u001b[38;5;66;03m# mount google drive\u001b[39;00m\n\u001b[0;32m----> 6\u001b[0m \u001b[38;5;28;01mfrom\u001b[39;00m \u001b[38;5;21;01mgoogle\u001b[39;00m\u001b[38;5;21;01m.\u001b[39;00m\u001b[38;5;21;01mcolab\u001b[39;00m \u001b[38;5;28;01mimport\u001b[39;00m drive\n\u001b[1;32m      7\u001b[0m drive\u001b[38;5;241m.\u001b[39mmount(\u001b[38;5;124m'\u001b[39m\u001b[38;5;124m/content/gdrive\u001b[39m\u001b[38;5;124m'\u001b[39m)\n",
      "\u001b[0;31mModuleNotFoundError\u001b[0m: No module named 'google'"
     ]
    }
   ],
   "source": [
    "#@title Installations and Mounting\n",
    "# installations\n",
    "!pip install livelossplot --quiet\n",
    "\n",
    "# mount google drive\n",
    "from google.colab import drive\n",
    "drive.mount('/content/gdrive')"
   ]
  },
  {
   "cell_type": "code",
   "execution_count": null,
   "metadata": {
    "cellView": "form",
    "id": "IqYvU2_pU5nU"
   },
   "outputs": [],
   "source": [
    "import os\n",
    "import sys\n",
    "from pathlib import Path\n",
    "\n",
    "def check_assignment(assignment_dir, files_list):\n",
    "  files_in_dir = set(os.listdir(assignment_dir))\n",
    "  for fname in files_list:\n",
    "    if fname not in files_in_dir:\n",
    "      raise FileNotFoundError(f'could not find file: {fname} in assignment_dir')\n",
    "\n",
    "assignment_dest = \"/content/hw3\"\n",
    "assignment_dir = \"/content/gdrive/My Drive/DL4CV/hw3\"  #@param{type:\"string\"}\n",
    "#assignment_files = ['hw1.ipynb', 'model.py', 'test_model.py', 'train.py', 'utils.py']\n",
    "\n",
    "assignment_files = (Path(assignment_dir) / 'zssr').glob('**/*')\n",
    "assignment_files = [f for f in assignment_files if f.is_file()]\n",
    "\n",
    "# check Google Drive is mounted\n",
    "if not os.path.isdir(\"/content/gdrive\"):\n",
    "  raise FileNotFoundError(\"Your Google Drive isn't mounted. Please run the above cell.\")\n",
    "\n",
    "# check all files there\n",
    "#check_assignment(assignment_dir, assignment_files)\n",
    "\n",
    "# create symbolic link\n",
    "!rm -f {assignment_dest}\n",
    "!ln -s \"{assignment_dir}\" \"{assignment_dest}\"\n",
    "print(f'Succesfully mapped (ln -s) \"{assignment_dest}\" -> \"{assignment_dir}\"')\n",
    "\n",
    "# cd to linked dir\n",
    "root = Path(assignment_dest) / 'zssr'\n",
    "%cd -q {str(root)}\n",
    "print(f'Succesfully changed directory (cd) to \"{str(root)}\"')\n",
    "\n",
    "# create zssr constants\n",
    "if str(root) not in sys.path:\n",
    "  sys.path.append(str(root)) \n"
   ]
  },
  {
   "cell_type": "code",
   "execution_count": 1,
   "metadata": {
    "id": "f2Yb7mgqrACH"
   },
   "outputs": [],
   "source": [
    "# import calls\n",
    "import torch\n",
    "import matplotlib.pyplot as plt  \n",
    "import pandas as pd\n",
    "import os\n",
    "\n",
    "os.chdir('/home/labs/antebilab/guyilan/Courses/DL4CV/hw3/zssr')\n",
    "\n",
    "import utils\n",
    "\n",
    "%load_ext autoreload\n",
    "%autoreload 2"
   ]
  },
  {
   "cell_type": "markdown",
   "metadata": {
    "id": "_IazAXP8VUlD"
   },
   "source": [
    "## Deep Super Resolution\n",
    "There are a few naive solutions for the Super Resolution task that involve classic Computer Vision Methods - [this link](https://en.wikipedia.org/wiki/Comparison_gallery_of_image_scaling_algorithms) provides a short survey of them.\n",
    "With the emergence of Deep Learning in Computer Vision, new solutions for the Super Resolution task were invented (e.g. [ESRGAN](https://arxiv.org/pdf/1809.00219.pdf)). Most of these solutions introduce Convolutional Neural Networks that are trained on a large dataset to perform Super Resolution on any image.\n",
    "\n",
    "<img src=\"https://drive.google.com/uc?export=view&id=1zXOsbFv8UBVZID-XnKnTPgQq12EjmRxO\" alt=\"standard deep superresolution\" width=\"500\"> \n"
   ]
  },
  {
   "cell_type": "markdown",
   "metadata": {
    "id": "ApgCrH6Jb_aO"
   },
   "source": [
    "## ZSSR\n",
    "\n",
    "With contrast to former works, the authors of ZSSR propose training an individual CNN **for each image during test time**. They leverage the fact that fully convolutional networks can be applied to varying spatial shapes of inputs. In fact, fully convolutional networks are actually trained on image patches of the networks receptive field's size. [Glasner et al.](http://www.wisdom.weizmann.ac.il/~vision/courses/2010_2/papers/single_image_SR.pdf) show that patches recurr accross scales in natural images. Therefore, a network trained to perform super-resolution from shape $(H/2, W/2)$ to $(H, W)$ can in fact be used to perform super-resolution from shape $(H, W)$ to $(2 \\cdot H, 2 \\cdot W)$. The network learns to perform super-resolution on patches in specific scales, but can be used for inference over and over due to the patch recurrence across scales. This phenomena is used as self-supervision in this framework.\n",
    "\n",
    "The framework follows these steps:\n",
    "1. Let $I$ be our input image.\n",
    "2. Get $LR(I)$, a low resolution version of $I$ using the downscaling operation $LR(.)$ of some scale factor $s$.\n",
    "3. Pass $LR(I)$ through a CNN $f_\\theta$ where $f$ is the network's architecture and $\\theta$ are the network's weights.\n",
    "4. $f_\\theta$ produces a super resolution of $I$ - $SR(LR(I))$ of the same shape as the original image $I$. In other words, $f_\\theta$ learns to upscale the image by the scale factor $s$.\n",
    "5. $f_\\theta$ is trained to produce images identical to the original image $I$, using the $L_1$ reconstruction loss between $SR(LR(I))$ and $I$.\n",
    "\n",
    "<img src=\"https://drive.google.com/uc?export=view&id=1IEHf9mibOiYWEAITrg1dRy4XR8wBO4Tb\" alt=\"zssr_3\" width=\"500\"> \n",
    "\n",
    "6. $f_\\theta$ is applied on $I$ and outputs $SR(I)$ - the upscaled version of $I$.\n",
    "\n",
    "<img src=\"https://drive.google.com/uc?export=view&id=13kSEQneeHm0225kRgmnoHWTytx7E2voM\" alt=\"zssr_4\" width=\"350\"> \n",
    "\n",
    "Due to patch recurrence across scales, this process can be applied in a repetative manner and provide us any super resolution of $I$ of size $t \\cdot s$ where $t$ is the number of times we passed the input through $f_\\theta$. \n",
    "\n",
    "**NOTE:** Methods that use examples from a single image alone are coined as *Deep Internal Learning*.\n",
    "\n",
    "**NOTE:** Notice this work implicitly sets a bias - all SR images are bicubic interpolations of the LR images. This is not the case in real world examples. Some follow up works (e.g. [Bell-Kligler et al.](https://proceedings.neurips.cc/paper/2019/file/5fd0b37cd7dbbb00f97ba6ce92bf5add-Paper.pdf)) introduce solutions to this.\n",
    "\n",
    "By this point you should have some general understanding of the ZSSR framework.\n"
   ]
  },
  {
   "cell_type": "markdown",
   "metadata": {
    "id": "CETilrFnfu-o"
   },
   "source": [
    "## Practical Guidelines - <font color='red'>do NOT skip this</font> \n",
    "In this part of the assignment pay special attention to these guildlines:\n",
    "\n",
    "* Any resizing should be done using the `resize-right` module. The files `resize_right.py` and `interp_methods.py` belong to this module and are NOT to be changed. DO NOT use resizing operations by other libraries such as `PIL`, `pytorch`, etc. \n",
    "\n",
    "  We provide a wrapper for the `resize-right` resizing methods, that support `torch.Tensor` types:\n",
    "\n",
    "  `utils.rr_resize` - Enables resizing by some scale factor.\n",
    "  ```\n",
    "  import utils\n",
    "  ...\n",
    "  resized_image = utils.rr_resize(image, scale_factors=2)\n",
    "  ```\n",
    "\n",
    "  For more information see the [Official Repo](https://github.com/assafshocher/ResizeRight).\n",
    "\n",
    "* You may use any method within the `transforms` submodule, besides `Resize` and `Scale`.\n",
    "\n"
   ]
  },
  {
   "cell_type": "markdown",
   "metadata": {
    "id": "Wo-vQUZaoIfv"
   },
   "source": [
    "## Implementation\n",
    "In the following sections you will implement your version of the ZSSR algorithm, and evaluate it on a predetermined dataset.\n",
    "In each section you will implement a different part of the framework.\n",
    "There are several implementation options:\n",
    "\n",
    "* <font color='red'>`basic`</font> - The simplest implementation possible for this part.\n",
    "* <font color='green'>`advanced`</font> - A more advance implementation that resembles the original paper. This is also the place to try new ideas that weren't suggested in the paper. We encourage you to try and reach the best performance possible.\n",
    "\n",
    "**NOTE:** While the advanced and implementations should improve results, we strongly recommend you begin with implementing all the basics and only then move on to the advanced ones."
   ]
  },
  {
   "cell_type": "markdown",
   "metadata": {
    "id": "jDEq4VH8EJ_E"
   },
   "source": [
    "# (A) Implement Data Handling\n",
    "\n",
    "In this section of the exercise, you implement components in charge of data handling, namely the `Dataset` class.\n",
    "\n",
    "You should open the `data_handling.py` file (by clicking on this link: `/content/hw3/zssr/data_handling.py`). Alternatively, you can go the left menu, click on **Files (📁)**, go to the directory `zssr` (or `content/hw3/zssr`) and double-click on `data_handling.py`.\n",
    "\n",
    "**Note:** The files in this assignment are auto-imported in this notebook. It means that you can change them, save them (`Ctrl+S`) and this change will immediately take affect in the notebook (when you use these functions again). You can use the dedicated playground cells to debug your code.\n",
    "\n",
    "## Implementation Options:\n",
    "* <font color='red'>`basic`</font> - Implement `BasicZSSRDataset` which contains a single element.\n",
    "* <font color='green'>`advanced`</font> - Add augmentations to the dataset. Namely, implement `EightCrops` transform and use it on `BasicZSSRDataset`. Alternatively, implement a dataloader of your own in `OriginalZSSRDataset`. Think of ways to create multiple samples out of the single pair we have in `BasicZSSRDataset`. For instance, you may use several data samples where the scale factor is the same but the SR images are of difference scale. You may also incorporate more augmentations of your choosings."
   ]
  },
  {
   "cell_type": "code",
   "execution_count": 16,
   "metadata": {
    "id": "P3KTzyW-Tyu1"
   },
   "outputs": [
    {
     "name": "stdout",
     "output_type": "stream",
     "text": [
      "..\n",
      "----------------------------------------------------------------------\n",
      "Ran 2 tests in 0.075s\n",
      "\n",
      "OK\n",
      ".\n",
      "----------------------------------------------------------------------\n",
      "Ran 1 test in 0.022s\n",
      "\n",
      "OK\n",
      ".\n",
      "----------------------------------------------------------------------\n",
      "Ran 1 test in 0.041s\n",
      "\n",
      "OK\n"
     ]
    }
   ],
   "source": [
    "# basic tests\n",
    "!python -m unittest test_data_handling.TestBasicZSSRDataset\n",
    "!python -m unittest test_data_handling.TestTransforms.testDefaultTrans\n",
    "!python -m unittest test_data_handling.TestTransforms.testInferenceTrans"
   ]
  },
  {
   "cell_type": "code",
   "execution_count": 17,
   "metadata": {
    "id": "JIESFePWWjD4"
   },
   "outputs": [
    {
     "name": "stdout",
     "output_type": "stream",
     "text": [
      ".\n",
      "----------------------------------------------------------------------\n",
      "Ran 1 test in 0.030s\n",
      "\n",
      "OK\n"
     ]
    }
   ],
   "source": [
    "# advanced tests\n",
    "!python -m unittest test_data_handling.TestTransforms.testAdvancedTrans"
   ]
  },
  {
   "cell_type": "code",
   "execution_count": 18,
   "metadata": {
    "id": "qQ9htsglfeU1"
   },
   "outputs": [],
   "source": [
    "# playground for debugging data_handling\n",
    "from data_handling import BasicZSSRDataset, default_trans, inference_trans\n",
    "from data_handling import advanced_trans, EightCrops, OriginalZSSRDataset\n"
   ]
  },
  {
   "cell_type": "markdown",
   "metadata": {
    "id": "mNy67t1VY4Pb"
   },
   "source": [
    "# (B) Implement Model\n",
    "In this section of the exercise, you implement the model you will train.\n",
    "\n",
    "You should open the `models.py` file (by clicking on this link: `/content/hw3/zssr/models.py`). Alternatively, you can go the left menu, click on **Files (📁)**, go to the directory `zssr` (or `content/hw3/zssr`) and double-click on `models.py`.\n",
    "\n",
    "## Implementation Options:\n",
    "* <font color='red'>`basic`</font> - Implement `ZSSRNet`, a fully convolutional network with 8 layers, 64 channels each, and kernels of size 3x3.\n",
    "\n",
    "* <font color='green'>`advanced`</font> - Implement `ZSSRResNet`, a fully convolutional network with an additive skip connection. Alternatively, implement `ZSSROriginalNet`, where you explore architectures of your own. Interesting possibilities may include but are not limited to: using *more skip connections*, *batch norm layers*, etc.\n"
   ]
  },
  {
   "cell_type": "code",
   "execution_count": 19,
   "metadata": {
    "id": "sYSaS3KI16Ym"
   },
   "outputs": [
    {
     "name": "stdout",
     "output_type": "stream",
     "text": [
      ".\n",
      "----------------------------------------------------------------------\n",
      "Ran 1 test in 0.900s\n",
      "\n",
      "OK\n"
     ]
    }
   ],
   "source": [
    "# basic tests\n",
    "!python -m unittest test_models.TestModels.testZSSRNet"
   ]
  },
  {
   "cell_type": "code",
   "execution_count": 9,
   "metadata": {
    "id": "mZVzq5mzfpt-"
   },
   "outputs": [
    {
     "name": "stdout",
     "output_type": "stream",
     "text": [
      ".\n",
      "----------------------------------------------------------------------\n",
      "Ran 1 test in 1.295s\n",
      "\n",
      "OK\n"
     ]
    }
   ],
   "source": [
    "# advanced tests\n",
    "!python -m unittest test_models.TestModels.testZSSRResNet"
   ]
  },
  {
   "cell_type": "code",
   "execution_count": 10,
   "metadata": {
    "id": "wxGuMDl2mzCF"
   },
   "outputs": [],
   "source": [
    "# playground for debugging models\n",
    "from models import ZSSRNet, ZSSRResNet, ZSSROriginalNet\n"
   ]
  },
  {
   "cell_type": "markdown",
   "metadata": {
    "id": "cY-UJjd6t_yQ"
   },
   "source": [
    "# (C) Implement ZSSR Mechanism\n",
    "\n",
    "In this section you implement the ZSSR mechanism within the `Experiment` class, which also facilitates running an entire benchmark on some dataset. \n",
    "The experiment iterates over all images in the dataset and does the following:\n",
    "* Train a ZSSR model.\n",
    "* Evaluate the performance of the model by computing the [PSNR](https://en.wikipedia.org/wiki/Peak_signal-to-noise_ratio) value between the image created by the model and the ground truth.\n",
    "* Compare the model to a classic Computer Vision baseline - super resolution with Bicubic Interpolation.\n",
    "\n",
    "It outputs the `{dataset_name}_psnr.csv` which will be used to check your solutions. \n",
    "\n",
    "You should open the `experiment.py` file (by clicking on this link: `/content/hw3/zssr/experiment.py`). Alternatively, you can go the left menu, click on **Files (📁)**, go to the directory `zssr` (or `content/hw3/zssr`) and double-click on `experiment.py`.\n",
    "\n",
    "## Implementation Options - `train`:\n",
    "* <font color='red'>`basic`</font> - Implement a training loop using `L1` loss function and `Adam` optimizer as mentioned in the paper.\n",
    "\n",
    "* <font color='green'>`advanced`</font> - Incorporate some learning weight scheduler using the `lr_scheduler` submodule. Also, explore using different loss functions, different optimizers and learning weight schedulers.\n",
    "\n",
    "## Implementation Options - `eval`:\n",
    "* <font color='red'>`basic`</font> - Evaluate the PSNR value of the output image and the ground truth image.\n",
    "\n",
    "* <font color='green'>`advanced`</font> - Read about *Geometric Self Ensebles* (originally introduced in [EDSR](https://arxiv.org/pdf/1707.02921.pdf) paper) and incorporate it in your evaluation method. More improvement directions include reading about *Back Projection* as mentioned in the ZSSR paper and incorporating it in the evaluation mechanism. You may also consider your original ways to do evaluation in a more sophisticated way.\n",
    "\n",
    "\n",
    "**NOTE**: As mentioned in class, visually meaningful results are as important as numerical results. Make sure your SR result results are indeed more visually appealing than the bicubic baseline.\n",
    "\n",
    "## Setup Before Training\n",
    "\n",
    "In this part you will need to use GPU (this will have a significant impact on the training speed). To get a GPU in Google Colab, please go to the top menu and to: **Runtime ➔ Change runtime type**. Then, select **GPU** as **Hardware accelerator**."
   ]
  },
  {
   "cell_type": "code",
   "execution_count": 13,
   "metadata": {
    "id": "lnQft7Awnvsu"
   },
   "outputs": [
    {
     "name": "stdout",
     "output_type": "stream",
     "text": [
      "0it [00:00, ?it/s]baboon.png\n",
      "1it [00:06,  6.54s/it]baby.png\n",
      "2it [00:12,  6.42s/it]barbara.png\n",
      "3it [00:19,  6.58s/it]bird.png\n",
      "4it [00:25,  6.34s/it]butterfly.png\n",
      "5it [00:31,  6.12s/it]coastguard.png\n",
      "6it [00:37,  6.11s/it]face.png\n",
      "7it [00:43,  6.13s/it]flowers.png\n",
      "8it [00:49,  5.98s/it]foreman.png\n",
      "9it [00:55,  6.08s/it]head.png\n",
      "10it [01:01,  5.96s/it]lenna.png\n",
      "11it [01:07,  6.01s/it]man.png\n",
      "12it [01:13,  6.07s/it]monarch.png\n",
      "13it [01:20,  6.30s/it]pepper.png\n",
      "14it [01:26,  6.30s/it]woman.png\n",
      "15it [01:32,  6.17s/it]\n",
      ".\n",
      "----------------------------------------------------------------------\n",
      "Ran 1 test in 92.754s\n",
      "\n",
      "OK\n"
     ]
    }
   ],
   "source": [
    "!python -m unittest test_experiment.TestExperiment"
   ]
  },
  {
   "cell_type": "code",
   "execution_count": null,
   "metadata": {
    "id": "g0Ms4N8k4lDX"
   },
   "outputs": [
    {
     "data": {
      "image/png": "[encoded data removed]",
      "text/plain": [
       "<Figure size 1200x800 with 2 Axes>"
      ]
     },
     "metadata": {},
     "output_type": "display_data"
    },
    {
     "name": "stdout",
     "output_type": "stream",
     "text": [
      "accuracy\n",
      "\ttraining         \t (min:   18.615, max:   30.377, cur:   29.811)\n",
      "\tvalidation       \t (min:   20.632, max:   27.908, cur:   27.904)\n",
      "Loss\n",
      "\tloss             \t (min:    0.029, max:    0.195, cur:    0.030)\n",
      "The baseline PSNR of baboon is 24.863988876342773\n",
      "The PSNR of baboon is 25.459810256958008\n"
     ]
    }
   ],
   "source": [
    "\"\"\"Auxiliary script for running ZSSR train & eval for a single image \n",
    "In this node you may try the experiment on different images.\n",
    "You may add / remove keys from the configuration dictionary as you see fit.\n",
    "\"\"\"\n",
    "from experiment import Experiment\n",
    "\n",
    "config = {\n",
    "  'scale_factor': 2, # scale factor - DO NOT CHANGE\n",
    "  'device': 'cuda' if torch.cuda.is_available() else 'cpu',\n",
    "  'verbose': True,\n",
    "  'lr': 0.0002, # learning rate\n",
    "  'random_crop_size': 100, #crop size inputted to the model\n",
    "  'epochs': 4000, # number of epochs to run\n",
    "  'show_interval': 100 # plot after this number of epochs\n",
    "\n",
    "}\n",
    "\n",
    "experiment = Experiment(utils.DATA_ROOT, config)\n",
    "# choose some exemplary image\n",
    "train_path, gt_path = experiment.train_paths[0], experiment.gt_paths[0]\n",
    "assert train_path.name == gt_path.name\n",
    "curr_model = experiment.train(train_path)\n",
    "curr_psnr = experiment.evaluate(gt_path, curr_model)\n",
    "baseline_psnr = experiment.baseline(gt_path)\n",
    "\n",
    "# plot results\n",
    "print(f\"The baseline PSNR of {train_path.stem} is {baseline_psnr}\")\n",
    "print(f\"The PSNR of {train_path.stem} is {curr_psnr}\")"
   ]
  },
  {
   "cell_type": "code",
   "execution_count": 35,
   "metadata": {
    "id": "9UJZW6QV4b2b"
   },
   "outputs": [],
   "source": [
    "# playground for debugging experiment\n",
    "from experiment import Experiment\n"
   ]
  },
  {
   "cell_type": "markdown",
   "metadata": {
    "id": "7ZkxYD3QudZZ"
   },
   "source": [
    "# Your ZSSR\n",
    "\n",
    "Please include a brief description of your ZSSR model, including where you implemented <font color='red'>`basic`</font>, <font color='green'>`advanced`</font>, or <font color='blue'>`original`</font>. If you implemented original components add a short explanation of what you did and why. \n",
    "\n",
    "Double click on the following cell in order to edit it."
   ]
  },
  {
   "cell_type": "markdown",
   "metadata": {
    "id": "6QFZoT-jnPgG"
   },
   "source": [
    "---\n",
    "\n",
    "I implemented basic data handling and ZSSR model which was sufficient to beat the baseline for all images as seen below:\n",
    "\n",
    "---"
   ]
  },
  {
   "cell_type": "markdown",
   "metadata": {
    "id": "bcXRxvQLDv3j"
   },
   "source": [
    "# (D) Benchmark Experiment\n",
    "In the following cells you create a benckmark on a given dataset. The results will be visible in the notebook as well as in `dataset_psnr.csv`.\n",
    "\n",
    "**NOTE:** The benchmark script may run for a while - up to 2-3 minutes per image. However, there is no need for it to take any longer. If you find your code still takes longer despite using GPUs try changing your solution. "
   ]
  },
  {
   "cell_type": "code",
   "execution_count": 36,
   "metadata": {
    "id": "Rwgenfk-G-VS"
   },
   "outputs": [
    {
     "name": "stderr",
     "output_type": "stream",
     "text": [
      "0it [00:00, ?it/s]"
     ]
    },
    {
     "name": "stdout",
     "output_type": "stream",
     "text": [
      "baboon.png\n"
     ]
    },
    {
     "name": "stderr",
     "output_type": "stream",
     "text": [
      "1it [00:27, 27.54s/it]"
     ]
    },
    {
     "name": "stdout",
     "output_type": "stream",
     "text": [
      "baby.png\n"
     ]
    },
    {
     "name": "stderr",
     "output_type": "stream",
     "text": [
      "2it [00:59, 29.93s/it]"
     ]
    },
    {
     "name": "stdout",
     "output_type": "stream",
     "text": [
      "barbara.png\n"
     ]
    },
    {
     "name": "stderr",
     "output_type": "stream",
     "text": [
      "3it [01:33, 31.85s/it]"
     ]
    },
    {
     "name": "stdout",
     "output_type": "stream",
     "text": [
      "bird.png\n"
     ]
    },
    {
     "name": "stderr",
     "output_type": "stream",
     "text": [
      "4it [01:56, 28.38s/it]"
     ]
    },
    {
     "name": "stdout",
     "output_type": "stream",
     "text": [
      "butterfly.png\n"
     ]
    },
    {
     "name": "stderr",
     "output_type": "stream",
     "text": [
      "5it [02:17, 25.85s/it]"
     ]
    },
    {
     "name": "stdout",
     "output_type": "stream",
     "text": [
      "coastguard.png\n"
     ]
    },
    {
     "name": "stderr",
     "output_type": "stream",
     "text": [
      "6it [02:40, 24.67s/it]"
     ]
    },
    {
     "name": "stdout",
     "output_type": "stream",
     "text": [
      "face.png\n"
     ]
    },
    {
     "name": "stderr",
     "output_type": "stream",
     "text": [
      "7it [03:02, 23.99s/it]"
     ]
    },
    {
     "name": "stdout",
     "output_type": "stream",
     "text": [
      "flowers.png\n"
     ]
    },
    {
     "name": "stderr",
     "output_type": "stream",
     "text": [
      "8it [03:29, 24.77s/it]"
     ]
    },
    {
     "name": "stdout",
     "output_type": "stream",
     "text": [
      "foreman.png\n"
     ]
    },
    {
     "name": "stderr",
     "output_type": "stream",
     "text": [
      "9it [03:52, 24.32s/it]"
     ]
    },
    {
     "name": "stdout",
     "output_type": "stream",
     "text": [
      "head.png\n"
     ]
    },
    {
     "name": "stderr",
     "output_type": "stream",
     "text": [
      "10it [04:14, 23.63s/it]"
     ]
    },
    {
     "name": "stdout",
     "output_type": "stream",
     "text": [
      "lenna.png\n"
     ]
    },
    {
     "name": "stderr",
     "output_type": "stream",
     "text": [
      "11it [04:43, 25.13s/it]"
     ]
    },
    {
     "name": "stdout",
     "output_type": "stream",
     "text": [
      "man.png\n"
     ]
    },
    {
     "name": "stderr",
     "output_type": "stream",
     "text": [
      "12it [05:09, 25.54s/it]"
     ]
    },
    {
     "name": "stdout",
     "output_type": "stream",
     "text": [
      "monarch.png\n"
     ]
    },
    {
     "name": "stderr",
     "output_type": "stream",
     "text": [
      "13it [05:43, 28.19s/it]"
     ]
    },
    {
     "name": "stdout",
     "output_type": "stream",
     "text": [
      "pepper.png\n"
     ]
    },
    {
     "name": "stderr",
     "output_type": "stream",
     "text": [
      "14it [06:14, 28.88s/it]"
     ]
    },
    {
     "name": "stdout",
     "output_type": "stream",
     "text": [
      "woman.png\n"
     ]
    },
    {
     "name": "stderr",
     "output_type": "stream",
     "text": [
      "15it [06:36, 26.43s/it]\n"
     ]
    },
    {
     "data": {
      "text/html": [
       "<div>\n",
       "<style scoped>\n",
       "    .dataframe tbody tr th:only-of-type {\n",
       "        vertical-align: middle;\n",
       "    }\n",
       "\n",
       "    .dataframe tbody tr th {\n",
       "        vertical-align: top;\n",
       "    }\n",
       "\n",
       "    .dataframe thead th {\n",
       "        text-align: right;\n",
       "    }\n",
       "</style>\n",
       "<table border=\"1\" class=\"dataframe\">\n",
       "  <thead>\n",
       "    <tr style=\"text-align: right;\">\n",
       "      <th></th>\n",
       "      <th>image_path</th>\n",
       "      <th>psnr</th>\n",
       "      <th>baseline</th>\n",
       "    </tr>\n",
       "  </thead>\n",
       "  <tbody>\n",
       "    <tr>\n",
       "      <th>0</th>\n",
       "      <td>baboon.png</td>\n",
       "      <td>25.501621</td>\n",
       "      <td>24.863989</td>\n",
       "    </tr>\n",
       "    <tr>\n",
       "      <th>1</th>\n",
       "      <td>baby.png</td>\n",
       "      <td>37.191856</td>\n",
       "      <td>37.068825</td>\n",
       "    </tr>\n",
       "    <tr>\n",
       "      <th>2</th>\n",
       "      <td>barbara.png</td>\n",
       "      <td>28.491436</td>\n",
       "      <td>28.005020</td>\n",
       "    </tr>\n",
       "    <tr>\n",
       "      <th>3</th>\n",
       "      <td>bird.png</td>\n",
       "      <td>39.059475</td>\n",
       "      <td>36.834740</td>\n",
       "    </tr>\n",
       "    <tr>\n",
       "      <th>4</th>\n",
       "      <td>butterfly.png</td>\n",
       "      <td>32.000404</td>\n",
       "      <td>27.437750</td>\n",
       "    </tr>\n",
       "    <tr>\n",
       "      <th>5</th>\n",
       "      <td>coastguard.png</td>\n",
       "      <td>29.462605</td>\n",
       "      <td>29.122488</td>\n",
       "    </tr>\n",
       "    <tr>\n",
       "      <th>6</th>\n",
       "      <td>face.png</td>\n",
       "      <td>35.379997</td>\n",
       "      <td>34.854588</td>\n",
       "    </tr>\n",
       "    <tr>\n",
       "      <th>7</th>\n",
       "      <td>flowers.png</td>\n",
       "      <td>32.257923</td>\n",
       "      <td>30.373085</td>\n",
       "    </tr>\n",
       "    <tr>\n",
       "      <th>8</th>\n",
       "      <td>foreman.png</td>\n",
       "      <td>35.969479</td>\n",
       "      <td>34.122757</td>\n",
       "    </tr>\n",
       "    <tr>\n",
       "      <th>9</th>\n",
       "      <td>head.png</td>\n",
       "      <td>35.396088</td>\n",
       "      <td>34.882908</td>\n",
       "    </tr>\n",
       "    <tr>\n",
       "      <th>10</th>\n",
       "      <td>lenna.png</td>\n",
       "      <td>36.078804</td>\n",
       "      <td>34.711838</td>\n",
       "    </tr>\n",
       "    <tr>\n",
       "      <th>11</th>\n",
       "      <td>man.png</td>\n",
       "      <td>30.756899</td>\n",
       "      <td>29.252731</td>\n",
       "    </tr>\n",
       "    <tr>\n",
       "      <th>12</th>\n",
       "      <td>monarch.png</td>\n",
       "      <td>36.666332</td>\n",
       "      <td>32.951370</td>\n",
       "    </tr>\n",
       "    <tr>\n",
       "      <th>13</th>\n",
       "      <td>pepper.png</td>\n",
       "      <td>36.125034</td>\n",
       "      <td>34.994179</td>\n",
       "    </tr>\n",
       "    <tr>\n",
       "      <th>14</th>\n",
       "      <td>woman.png</td>\n",
       "      <td>34.476116</td>\n",
       "      <td>32.152809</td>\n",
       "    </tr>\n",
       "    <tr>\n",
       "      <th>15</th>\n",
       "      <td>TOTAL_AVG</td>\n",
       "      <td>33.654271</td>\n",
       "      <td>32.108605</td>\n",
       "    </tr>\n",
       "  </tbody>\n",
       "</table>\n",
       "</div>"
      ],
      "text/plain": [
       "        image_path       psnr   baseline\n",
       "0       baboon.png  25.501621  24.863989\n",
       "1         baby.png  37.191856  37.068825\n",
       "2      barbara.png  28.491436  28.005020\n",
       "3         bird.png  39.059475  36.834740\n",
       "4    butterfly.png  32.000404  27.437750\n",
       "5   coastguard.png  29.462605  29.122488\n",
       "6         face.png  35.379997  34.854588\n",
       "7      flowers.png  32.257923  30.373085\n",
       "8      foreman.png  35.969479  34.122757\n",
       "9         head.png  35.396088  34.882908\n",
       "10       lenna.png  36.078804  34.711838\n",
       "11         man.png  30.756899  29.252731\n",
       "12     monarch.png  36.666332  32.951370\n",
       "13      pepper.png  36.125034  34.994179\n",
       "14       woman.png  34.476116  32.152809\n",
       "15       TOTAL_AVG  33.654271  32.108605"
      ]
     },
     "execution_count": 36,
     "metadata": {},
     "output_type": "execute_result"
    }
   ],
   "source": [
    "config['verbose'] = False # no plotting\n",
    "\n",
    "experiment = Experiment(utils.DATA_ROOT, config)\n",
    "run_df = experiment.run()\n",
    "run_df"
   ]
  },
  {
   "cell_type": "code",
   "execution_count": 38,
   "metadata": {},
   "outputs": [
    {
     "name": "stdout",
     "output_type": "stream",
     "text": [
      "All PSNR values are greater than baseline\n"
     ]
    }
   ],
   "source": [
    "#read data_psnr.csv:\n",
    "df_psnr = pd.read_csv('data_psnr.csv', index_col=0)\n",
    "if (df_psnr['psnr'] > df_psnr['baseline']).all():\n",
    "    print('All PSNR values are greater than baseline')"
   ]
  },
  {
   "cell_type": "code",
   "execution_count": null,
   "metadata": {
    "cellView": "form",
    "id": "_JnLPwaezTvf"
   },
   "outputs": [],
   "source": [
    "#@title # Create and Download Your Solution\n",
    "import os\n",
    "import re\n",
    "import zipfile\n",
    "from google.colab import files\n",
    "\n",
    "os.chdir('..')\n",
    "\n",
    "def create_zip(files, hw, name):\n",
    "  zip_path = f'{hw}-{name}.zip'\n",
    "  with zipfile.ZipFile(zip_path, 'w') as f:\n",
    "    for fname in files:\n",
    "      if not os.path.isfile(fname):\n",
    "        os.chdir('./zssr')\n",
    "        raise FileNotFoundError(f\"Couldn't find file: '{fname}' in the homework directory\")\n",
    "      f.write(fname, fname)\n",
    "  return zip_path\n",
    "# export notebook as html\n",
    "!jupyter nbconvert --to html hw3.ipynb\n",
    "!jupyter nbconvert --to html zssr/main.ipynb\n",
    "##@markdown Please upload your typed solution (`.pdf` file) to the homework directory, and use the name `hw2-sol.pdf`.\n",
    "student_name = \"John Doe\"  #@param{type:\"string\"}\n",
    "assignment_name = 'hw3'\n",
    "assignment_sol_files = ['hw3.ipynb', 'hw3.html', 'autograd.py', 'functional.py',\n",
    "                        'nn.py', 'optim.py',\n",
    "                        'models.py', 'train.py', \n",
    "                        'hw2_nn.py', 'hw2_functional.py', 'hw2_optim.py',\n",
    "                        'hw3-sol.pdf', 'zssr/main.ipynb', 'zssr/main.html',\n",
    "                        'zssr/models.py', 'zssr/data_handling.py',\n",
    "                        'zssr/experiment.py', 'zssr/data_psnr.csv']\n",
    "zip_name = re.sub('[_ ]+', '_', re.sub(r'[^a-zA-Z_ ]+', '', student_name.lower()))\n",
    "# create zip with your solution\n",
    "zip_path = create_zip(assignment_sol_files, assignment_name, zip_name)\n",
    "# download the zip\n",
    "os.chdir('./zssr')\n",
    "files.download(os.path.join('..', zip_path))\n",
    "\n",
    "#@markdown Enter your name in `student_name` and run this cell to create and download a `.zip` file with your solution.\n",
    "#@markdown You should submit your solution via Moodle.\n",
    "\n",
    "#@markdown **Note:** If you run this cell multiple times, you may be prompted by the browser to allow this page to download multiple files."
   ]
  }
 ],
 "metadata": {
  "accelerator": "GPU",
  "colab": {
   "collapsed_sections": [],
   "name": "main.ipynb",
   "provenance": [],
   "toc_visible": true
  },
  "kernelspec": {
   "display_name": "aihub_env",
   "language": "python",
   "name": "aihub_env"
  }
 },
 "nbformat": 4,
 "nbformat_minor": 1
}
